{
 "cells": [
  {
   "cell_type": "code",
   "execution_count": 1,
   "id": "7c296b87-783e-41fc-b618-338be630baeb",
   "metadata": {},
   "outputs": [],
   "source": [
    "import numpy as np\n",
    "import pandas as pd\n",
    "from sklearn.model_selection import train_test_split\n",
    "from sklearn.preprocessing import StandardScaler\n",
    "import tensorflow as tf\n",
    "from sklearn.metrics import confusion_matrix, accuracy_score"
   ]
  },
  {
   "cell_type": "code",
   "execution_count": 4,
   "id": "f6d89482-b553-4b4b-9173-de9b381990c2",
   "metadata": {},
   "outputs": [],
   "source": [
    "df = pd.read_csv('../../data/diabetes.csv')"
   ]
  },
  {
   "cell_type": "code",
   "execution_count": 6,
   "id": "0020eb27-108b-42fb-89a2-df08868b79bd",
   "metadata": {},
   "outputs": [],
   "source": [
    "x = df.iloc[:, :-1].values\n",
    "y = df.iloc[:, -1].values"
   ]
  },
  {
   "cell_type": "code",
   "execution_count": 7,
   "id": "c972009c-0462-4b40-99c6-6e389f78a90b",
   "metadata": {},
   "outputs": [],
   "source": [
    "x_train, x_test, y_train, y_test = train_test_split(x, y, test_size=0.2)"
   ]
  },
  {
   "cell_type": "code",
   "execution_count": 8,
   "id": "8f1b0f84-7cb2-409f-a914-f8fe8b14af28",
   "metadata": {},
   "outputs": [],
   "source": [
    "sc = StandardScaler()\n",
    "x_train = sc.fit_transform(x_train)\n",
    "x_test = sc.fit_transform(x_test)"
   ]
  },
  {
   "cell_type": "code",
   "execution_count": 9,
   "id": "1d30573c-3b2a-479c-bf3c-d65a6c2564e4",
   "metadata": {},
   "outputs": [],
   "source": [
    "ann = tf.keras.Sequential()\n",
    "ann.add(tf.keras.layers.Dense(units=8, activation='relu'))\n",
    "ann.add(tf.keras.layers.Dense(units=1, activation='sigmoid'))"
   ]
  },
  {
   "cell_type": "code",
   "execution_count": 10,
   "id": "f55d949d-16b4-4df5-83b5-e2de7598423d",
   "metadata": {},
   "outputs": [
    {
     "name": "stdout",
     "output_type": "stream",
     "text": [
      "Epoch 1/64\n",
      "\u001b[1m18/18\u001b[0m \u001b[32m━━━━━━━━━━━━━━━━━━━━\u001b[0m\u001b[37m\u001b[0m \u001b[1m1s\u001b[0m 18ms/step - accuracy: 0.6410 - loss: 0.8438 - val_accuracy: 0.6290 - val_loss: 0.7923\n",
      "Epoch 2/64\n",
      "\u001b[1m18/18\u001b[0m \u001b[32m━━━━━━━━━━━━━━━━━━━━\u001b[0m\u001b[37m\u001b[0m \u001b[1m0s\u001b[0m 5ms/step - accuracy: 0.5980 - loss: 0.8179 - val_accuracy: 0.6613 - val_loss: 0.7585\n",
      "Epoch 3/64\n",
      "\u001b[1m18/18\u001b[0m \u001b[32m━━━━━━━━━━━━━━━━━━━━\u001b[0m\u001b[37m\u001b[0m \u001b[1m0s\u001b[0m 5ms/step - accuracy: 0.6304 - loss: 0.8021 - val_accuracy: 0.6613 - val_loss: 0.7290\n",
      "Epoch 4/64\n",
      "\u001b[1m18/18\u001b[0m \u001b[32m━━━━━━━━━━━━━━━━━━━━\u001b[0m\u001b[37m\u001b[0m \u001b[1m0s\u001b[0m 6ms/step - accuracy: 0.6277 - loss: 0.7416 - val_accuracy: 0.6774 - val_loss: 0.7050\n",
      "Epoch 5/64\n",
      "\u001b[1m18/18\u001b[0m \u001b[32m━━━━━━━━━━━━━━━━━━━━\u001b[0m\u001b[37m\u001b[0m \u001b[1m0s\u001b[0m 5ms/step - accuracy: 0.6560 - loss: 0.6967 - val_accuracy: 0.6774 - val_loss: 0.6814\n",
      "Epoch 6/64\n",
      "\u001b[1m18/18\u001b[0m \u001b[32m━━━━━━━━━━━━━━━━━━━━\u001b[0m\u001b[37m\u001b[0m \u001b[1m0s\u001b[0m 5ms/step - accuracy: 0.6721 - loss: 0.6779 - val_accuracy: 0.6774 - val_loss: 0.6600\n",
      "Epoch 7/64\n",
      "\u001b[1m18/18\u001b[0m \u001b[32m━━━━━━━━━━━━━━━━━━━━\u001b[0m\u001b[37m\u001b[0m \u001b[1m0s\u001b[0m 6ms/step - accuracy: 0.6543 - loss: 0.6681 - val_accuracy: 0.7097 - val_loss: 0.6406\n",
      "Epoch 8/64\n",
      "\u001b[1m18/18\u001b[0m \u001b[32m━━━━━━━━━━━━━━━━━━━━\u001b[0m\u001b[37m\u001b[0m \u001b[1m0s\u001b[0m 5ms/step - accuracy: 0.6887 - loss: 0.6422 - val_accuracy: 0.6935 - val_loss: 0.6242\n",
      "Epoch 9/64\n",
      "\u001b[1m18/18\u001b[0m \u001b[32m━━━━━━━━━━━━━━━━━━━━\u001b[0m\u001b[37m\u001b[0m \u001b[1m0s\u001b[0m 5ms/step - accuracy: 0.7138 - loss: 0.6136 - val_accuracy: 0.6774 - val_loss: 0.6084\n",
      "Epoch 10/64\n",
      "\u001b[1m18/18\u001b[0m \u001b[32m━━━━━━━━━━━━━━━━━━━━\u001b[0m\u001b[37m\u001b[0m \u001b[1m0s\u001b[0m 5ms/step - accuracy: 0.7152 - loss: 0.5980 - val_accuracy: 0.6935 - val_loss: 0.5950\n",
      "Epoch 11/64\n",
      "\u001b[1m18/18\u001b[0m \u001b[32m━━━━━━━━━━━━━━━━━━━━\u001b[0m\u001b[37m\u001b[0m \u001b[1m0s\u001b[0m 5ms/step - accuracy: 0.7369 - loss: 0.5884 - val_accuracy: 0.6935 - val_loss: 0.5824\n",
      "Epoch 12/64\n",
      "\u001b[1m18/18\u001b[0m \u001b[32m━━━━━━━━━━━━━━━━━━━━\u001b[0m\u001b[37m\u001b[0m \u001b[1m0s\u001b[0m 5ms/step - accuracy: 0.7000 - loss: 0.5872 - val_accuracy: 0.6935 - val_loss: 0.5697\n",
      "Epoch 13/64\n",
      "\u001b[1m18/18\u001b[0m \u001b[32m━━━━━━━━━━━━━━━━━━━━\u001b[0m\u001b[37m\u001b[0m \u001b[1m0s\u001b[0m 5ms/step - accuracy: 0.7250 - loss: 0.5833 - val_accuracy: 0.7097 - val_loss: 0.5596\n",
      "Epoch 14/64\n",
      "\u001b[1m18/18\u001b[0m \u001b[32m━━━━━━━━━━━━━━━━━━━━\u001b[0m\u001b[37m\u001b[0m \u001b[1m0s\u001b[0m 5ms/step - accuracy: 0.7548 - loss: 0.5470 - val_accuracy: 0.7258 - val_loss: 0.5497\n",
      "Epoch 15/64\n",
      "\u001b[1m18/18\u001b[0m \u001b[32m━━━━━━━━━━━━━━━━━━━━\u001b[0m\u001b[37m\u001b[0m \u001b[1m0s\u001b[0m 5ms/step - accuracy: 0.7484 - loss: 0.5685 - val_accuracy: 0.7258 - val_loss: 0.5404\n",
      "Epoch 16/64\n",
      "\u001b[1m18/18\u001b[0m \u001b[32m━━━━━━━━━━━━━━━━━━━━\u001b[0m\u001b[37m\u001b[0m \u001b[1m0s\u001b[0m 5ms/step - accuracy: 0.7297 - loss: 0.5564 - val_accuracy: 0.7258 - val_loss: 0.5316\n",
      "Epoch 17/64\n",
      "\u001b[1m18/18\u001b[0m \u001b[32m━━━━━━━━━━━━━━━━━━━━\u001b[0m\u001b[37m\u001b[0m \u001b[1m0s\u001b[0m 5ms/step - accuracy: 0.7597 - loss: 0.5405 - val_accuracy: 0.7258 - val_loss: 0.5219\n",
      "Epoch 18/64\n",
      "\u001b[1m18/18\u001b[0m \u001b[32m━━━━━━━━━━━━━━━━━━━━\u001b[0m\u001b[37m\u001b[0m \u001b[1m0s\u001b[0m 5ms/step - accuracy: 0.7365 - loss: 0.5522 - val_accuracy: 0.7258 - val_loss: 0.5140\n",
      "Epoch 19/64\n",
      "\u001b[1m18/18\u001b[0m \u001b[32m━━━━━━━━━━━━━━━━━━━━\u001b[0m\u001b[37m\u001b[0m \u001b[1m0s\u001b[0m 6ms/step - accuracy: 0.7519 - loss: 0.5157 - val_accuracy: 0.7258 - val_loss: 0.5065\n",
      "Epoch 20/64\n",
      "\u001b[1m18/18\u001b[0m \u001b[32m━━━━━━━━━━━━━━━━━━━━\u001b[0m\u001b[37m\u001b[0m \u001b[1m0s\u001b[0m 5ms/step - accuracy: 0.7596 - loss: 0.5155 - val_accuracy: 0.7419 - val_loss: 0.4991\n",
      "Epoch 21/64\n",
      "\u001b[1m18/18\u001b[0m \u001b[32m━━━━━━━━━━━━━━━━━━━━\u001b[0m\u001b[37m\u001b[0m \u001b[1m0s\u001b[0m 5ms/step - accuracy: 0.7580 - loss: 0.5082 - val_accuracy: 0.7419 - val_loss: 0.4917\n",
      "Epoch 22/64\n",
      "\u001b[1m18/18\u001b[0m \u001b[32m━━━━━━━━━━━━━━━━━━━━\u001b[0m\u001b[37m\u001b[0m \u001b[1m0s\u001b[0m 5ms/step - accuracy: 0.7991 - loss: 0.4808 - val_accuracy: 0.7581 - val_loss: 0.4851\n",
      "Epoch 23/64\n",
      "\u001b[1m18/18\u001b[0m \u001b[32m━━━━━━━━━━━━━━━━━━━━\u001b[0m\u001b[37m\u001b[0m \u001b[1m0s\u001b[0m 6ms/step - accuracy: 0.7517 - loss: 0.5199 - val_accuracy: 0.7581 - val_loss: 0.4796\n",
      "Epoch 24/64\n",
      "\u001b[1m18/18\u001b[0m \u001b[32m━━━━━━━━━━━━━━━━━━━━\u001b[0m\u001b[37m\u001b[0m \u001b[1m0s\u001b[0m 5ms/step - accuracy: 0.7573 - loss: 0.4936 - val_accuracy: 0.7742 - val_loss: 0.4749\n",
      "Epoch 25/64\n",
      "\u001b[1m18/18\u001b[0m \u001b[32m━━━━━━━━━━━━━━━━━━━━\u001b[0m\u001b[37m\u001b[0m \u001b[1m0s\u001b[0m 5ms/step - accuracy: 0.7837 - loss: 0.4819 - val_accuracy: 0.7581 - val_loss: 0.4700\n",
      "Epoch 26/64\n",
      "\u001b[1m18/18\u001b[0m \u001b[32m━━━━━━━━━━━━━━━━━━━━\u001b[0m\u001b[37m\u001b[0m \u001b[1m0s\u001b[0m 6ms/step - accuracy: 0.7519 - loss: 0.5002 - val_accuracy: 0.7581 - val_loss: 0.4662\n",
      "Epoch 27/64\n",
      "\u001b[1m18/18\u001b[0m \u001b[32m━━━━━━━━━━━━━━━━━━━━\u001b[0m\u001b[37m\u001b[0m \u001b[1m0s\u001b[0m 5ms/step - accuracy: 0.7596 - loss: 0.5195 - val_accuracy: 0.7581 - val_loss: 0.4633\n",
      "Epoch 28/64\n",
      "\u001b[1m18/18\u001b[0m \u001b[32m━━━━━━━━━━━━━━━━━━━━\u001b[0m\u001b[37m\u001b[0m \u001b[1m0s\u001b[0m 5ms/step - accuracy: 0.7572 - loss: 0.5089 - val_accuracy: 0.7581 - val_loss: 0.4600\n",
      "Epoch 29/64\n",
      "\u001b[1m18/18\u001b[0m \u001b[32m━━━━━━━━━━━━━━━━━━━━\u001b[0m\u001b[37m\u001b[0m \u001b[1m0s\u001b[0m 6ms/step - accuracy: 0.7649 - loss: 0.4904 - val_accuracy: 0.7581 - val_loss: 0.4568\n",
      "Epoch 30/64\n",
      "\u001b[1m18/18\u001b[0m \u001b[32m━━━━━━━━━━━━━━━━━━━━\u001b[0m\u001b[37m\u001b[0m \u001b[1m0s\u001b[0m 6ms/step - accuracy: 0.7405 - loss: 0.5138 - val_accuracy: 0.7742 - val_loss: 0.4539\n",
      "Epoch 31/64\n",
      "\u001b[1m18/18\u001b[0m \u001b[32m━━━━━━━━━━━━━━━━━━━━\u001b[0m\u001b[37m\u001b[0m \u001b[1m0s\u001b[0m 7ms/step - accuracy: 0.7528 - loss: 0.4900 - val_accuracy: 0.7742 - val_loss: 0.4514\n",
      "Epoch 32/64\n",
      "\u001b[1m18/18\u001b[0m \u001b[32m━━━━━━━━━━━━━━━━━━━━\u001b[0m\u001b[37m\u001b[0m \u001b[1m0s\u001b[0m 5ms/step - accuracy: 0.7716 - loss: 0.4783 - val_accuracy: 0.7742 - val_loss: 0.4495\n",
      "Epoch 33/64\n",
      "\u001b[1m18/18\u001b[0m \u001b[32m━━━━━━━━━━━━━━━━━━━━\u001b[0m\u001b[37m\u001b[0m \u001b[1m0s\u001b[0m 6ms/step - accuracy: 0.7693 - loss: 0.4831 - val_accuracy: 0.7742 - val_loss: 0.4481\n",
      "Epoch 34/64\n",
      "\u001b[1m18/18\u001b[0m \u001b[32m━━━━━━━━━━━━━━━━━━━━\u001b[0m\u001b[37m\u001b[0m \u001b[1m0s\u001b[0m 7ms/step - accuracy: 0.7711 - loss: 0.5011 - val_accuracy: 0.7742 - val_loss: 0.4458\n",
      "Epoch 35/64\n",
      "\u001b[1m18/18\u001b[0m \u001b[32m━━━━━━━━━━━━━━━━━━━━\u001b[0m\u001b[37m\u001b[0m \u001b[1m0s\u001b[0m 6ms/step - accuracy: 0.7639 - loss: 0.4894 - val_accuracy: 0.7742 - val_loss: 0.4444\n",
      "Epoch 36/64\n",
      "\u001b[1m18/18\u001b[0m \u001b[32m━━━━━━━━━━━━━━━━━━━━\u001b[0m\u001b[37m\u001b[0m \u001b[1m0s\u001b[0m 6ms/step - accuracy: 0.7796 - loss: 0.4772 - val_accuracy: 0.7742 - val_loss: 0.4435\n",
      "Epoch 37/64\n",
      "\u001b[1m18/18\u001b[0m \u001b[32m━━━━━━━━━━━━━━━━━━━━\u001b[0m\u001b[37m\u001b[0m \u001b[1m0s\u001b[0m 6ms/step - accuracy: 0.7636 - loss: 0.5004 - val_accuracy: 0.7742 - val_loss: 0.4420\n",
      "Epoch 38/64\n",
      "\u001b[1m18/18\u001b[0m \u001b[32m━━━━━━━━━━━━━━━━━━━━\u001b[0m\u001b[37m\u001b[0m \u001b[1m0s\u001b[0m 5ms/step - accuracy: 0.7585 - loss: 0.5005 - val_accuracy: 0.7903 - val_loss: 0.4408\n",
      "Epoch 39/64\n",
      "\u001b[1m18/18\u001b[0m \u001b[32m━━━━━━━━━━━━━━━━━━━━\u001b[0m\u001b[37m\u001b[0m \u001b[1m0s\u001b[0m 6ms/step - accuracy: 0.7527 - loss: 0.4955 - val_accuracy: 0.7903 - val_loss: 0.4400\n",
      "Epoch 40/64\n",
      "\u001b[1m18/18\u001b[0m \u001b[32m━━━━━━━━━━━━━━━━━━━━\u001b[0m\u001b[37m\u001b[0m \u001b[1m0s\u001b[0m 6ms/step - accuracy: 0.7797 - loss: 0.4619 - val_accuracy: 0.7903 - val_loss: 0.4392\n",
      "Epoch 41/64\n",
      "\u001b[1m18/18\u001b[0m \u001b[32m━━━━━━━━━━━━━━━━━━━━\u001b[0m\u001b[37m\u001b[0m \u001b[1m0s\u001b[0m 6ms/step - accuracy: 0.7784 - loss: 0.4566 - val_accuracy: 0.8065 - val_loss: 0.4379\n",
      "Epoch 42/64\n",
      "\u001b[1m18/18\u001b[0m \u001b[32m━━━━━━━━━━━━━━━━━━━━\u001b[0m\u001b[37m\u001b[0m \u001b[1m0s\u001b[0m 6ms/step - accuracy: 0.7623 - loss: 0.4744 - val_accuracy: 0.8065 - val_loss: 0.4370\n",
      "Epoch 43/64\n",
      "\u001b[1m18/18\u001b[0m \u001b[32m━━━━━━━━━━━━━━━━━━━━\u001b[0m\u001b[37m\u001b[0m \u001b[1m0s\u001b[0m 6ms/step - accuracy: 0.7563 - loss: 0.4907 - val_accuracy: 0.8065 - val_loss: 0.4363\n",
      "Epoch 44/64\n",
      "\u001b[1m18/18\u001b[0m \u001b[32m━━━━━━━━━━━━━━━━━━━━\u001b[0m\u001b[37m\u001b[0m \u001b[1m0s\u001b[0m 6ms/step - accuracy: 0.7447 - loss: 0.4833 - val_accuracy: 0.8065 - val_loss: 0.4351\n",
      "Epoch 45/64\n",
      "\u001b[1m18/18\u001b[0m \u001b[32m━━━━━━━━━━━━━━━━━━━━\u001b[0m\u001b[37m\u001b[0m \u001b[1m0s\u001b[0m 6ms/step - accuracy: 0.7823 - loss: 0.4485 - val_accuracy: 0.8065 - val_loss: 0.4346\n",
      "Epoch 46/64\n",
      "\u001b[1m18/18\u001b[0m \u001b[32m━━━━━━━━━━━━━━━━━━━━\u001b[0m\u001b[37m\u001b[0m \u001b[1m0s\u001b[0m 6ms/step - accuracy: 0.7649 - loss: 0.4721 - val_accuracy: 0.8065 - val_loss: 0.4340\n",
      "Epoch 47/64\n",
      "\u001b[1m18/18\u001b[0m \u001b[32m━━━━━━━━━━━━━━━━━━━━\u001b[0m\u001b[37m\u001b[0m \u001b[1m0s\u001b[0m 6ms/step - accuracy: 0.7383 - loss: 0.5088 - val_accuracy: 0.8065 - val_loss: 0.4332\n",
      "Epoch 48/64\n",
      "\u001b[1m18/18\u001b[0m \u001b[32m━━━━━━━━━━━━━━━━━━━━\u001b[0m\u001b[37m\u001b[0m \u001b[1m0s\u001b[0m 6ms/step - accuracy: 0.7477 - loss: 0.4890 - val_accuracy: 0.8065 - val_loss: 0.4326\n",
      "Epoch 49/64\n",
      "\u001b[1m18/18\u001b[0m \u001b[32m━━━━━━━━━━━━━━━━━━━━\u001b[0m\u001b[37m\u001b[0m \u001b[1m0s\u001b[0m 5ms/step - accuracy: 0.7714 - loss: 0.4486 - val_accuracy: 0.8065 - val_loss: 0.4327\n",
      "Epoch 50/64\n",
      "\u001b[1m18/18\u001b[0m \u001b[32m━━━━━━━━━━━━━━━━━━━━\u001b[0m\u001b[37m\u001b[0m \u001b[1m0s\u001b[0m 6ms/step - accuracy: 0.7564 - loss: 0.4803 - val_accuracy: 0.8065 - val_loss: 0.4320\n",
      "Epoch 51/64\n",
      "\u001b[1m18/18\u001b[0m \u001b[32m━━━━━━━━━━━━━━━━━━━━\u001b[0m\u001b[37m\u001b[0m \u001b[1m0s\u001b[0m 5ms/step - accuracy: 0.7562 - loss: 0.4818 - val_accuracy: 0.8065 - val_loss: 0.4319\n",
      "Epoch 52/64\n",
      "\u001b[1m18/18\u001b[0m \u001b[32m━━━━━━━━━━━━━━━━━━━━\u001b[0m\u001b[37m\u001b[0m \u001b[1m0s\u001b[0m 5ms/step - accuracy: 0.7273 - loss: 0.5194 - val_accuracy: 0.8065 - val_loss: 0.4311\n",
      "Epoch 53/64\n",
      "\u001b[1m18/18\u001b[0m \u001b[32m━━━━━━━━━━━━━━━━━━━━\u001b[0m\u001b[37m\u001b[0m \u001b[1m0s\u001b[0m 5ms/step - accuracy: 0.7902 - loss: 0.4300 - val_accuracy: 0.8065 - val_loss: 0.4307\n",
      "Epoch 54/64\n",
      "\u001b[1m18/18\u001b[0m \u001b[32m━━━━━━━━━━━━━━━━━━━━\u001b[0m\u001b[37m\u001b[0m \u001b[1m0s\u001b[0m 5ms/step - accuracy: 0.7814 - loss: 0.4569 - val_accuracy: 0.8065 - val_loss: 0.4303\n",
      "Epoch 55/64\n",
      "\u001b[1m18/18\u001b[0m \u001b[32m━━━━━━━━━━━━━━━━━━━━\u001b[0m\u001b[37m\u001b[0m \u001b[1m0s\u001b[0m 6ms/step - accuracy: 0.7554 - loss: 0.4766 - val_accuracy: 0.8065 - val_loss: 0.4298\n",
      "Epoch 56/64\n",
      "\u001b[1m18/18\u001b[0m \u001b[32m━━━━━━━━━━━━━━━━━━━━\u001b[0m\u001b[37m\u001b[0m \u001b[1m0s\u001b[0m 5ms/step - accuracy: 0.7478 - loss: 0.4643 - val_accuracy: 0.8065 - val_loss: 0.4299\n",
      "Epoch 57/64\n",
      "\u001b[1m18/18\u001b[0m \u001b[32m━━━━━━━━━━━━━━━━━━━━\u001b[0m\u001b[37m\u001b[0m \u001b[1m0s\u001b[0m 6ms/step - accuracy: 0.7747 - loss: 0.4627 - val_accuracy: 0.8065 - val_loss: 0.4292\n",
      "Epoch 58/64\n",
      "\u001b[1m18/18\u001b[0m \u001b[32m━━━━━━━━━━━━━━━━━━━━\u001b[0m\u001b[37m\u001b[0m \u001b[1m0s\u001b[0m 5ms/step - accuracy: 0.7660 - loss: 0.4685 - val_accuracy: 0.8065 - val_loss: 0.4286\n",
      "Epoch 59/64\n",
      "\u001b[1m18/18\u001b[0m \u001b[32m━━━━━━━━━━━━━━━━━━━━\u001b[0m\u001b[37m\u001b[0m \u001b[1m0s\u001b[0m 6ms/step - accuracy: 0.7894 - loss: 0.4552 - val_accuracy: 0.8065 - val_loss: 0.4280\n",
      "Epoch 60/64\n",
      "\u001b[1m18/18\u001b[0m \u001b[32m━━━━━━━━━━━━━━━━━━━━\u001b[0m\u001b[37m\u001b[0m \u001b[1m0s\u001b[0m 5ms/step - accuracy: 0.7688 - loss: 0.4498 - val_accuracy: 0.8065 - val_loss: 0.4275\n",
      "Epoch 61/64\n",
      "\u001b[1m18/18\u001b[0m \u001b[32m━━━━━━━━━━━━━━━━━━━━\u001b[0m\u001b[37m\u001b[0m \u001b[1m0s\u001b[0m 6ms/step - accuracy: 0.7785 - loss: 0.4528 - val_accuracy: 0.8065 - val_loss: 0.4277\n",
      "Epoch 62/64\n",
      "\u001b[1m18/18\u001b[0m \u001b[32m━━━━━━━━━━━━━━━━━━━━\u001b[0m\u001b[37m\u001b[0m \u001b[1m0s\u001b[0m 6ms/step - accuracy: 0.7964 - loss: 0.4172 - val_accuracy: 0.8065 - val_loss: 0.4285\n",
      "Epoch 63/64\n",
      "\u001b[1m18/18\u001b[0m \u001b[32m━━━━━━━━━━━━━━━━━━━━\u001b[0m\u001b[37m\u001b[0m \u001b[1m0s\u001b[0m 7ms/step - accuracy: 0.7619 - loss: 0.4663 - val_accuracy: 0.8065 - val_loss: 0.4281\n",
      "Epoch 64/64\n",
      "\u001b[1m18/18\u001b[0m \u001b[32m━━━━━━━━━━━━━━━━━━━━\u001b[0m\u001b[37m\u001b[0m \u001b[1m0s\u001b[0m 6ms/step - accuracy: 0.7803 - loss: 0.4303 - val_accuracy: 0.8065 - val_loss: 0.4285\n"
     ]
    },
    {
     "data": {
      "text/plain": [
       "<keras.src.callbacks.history.History at 0x2715971b080>"
      ]
     },
     "execution_count": 10,
     "metadata": {},
     "output_type": "execute_result"
    }
   ],
   "source": [
    "ann.compile(optimizer='rmsprop', loss='binary_crossentropy', metrics=['accuracy'])\n",
    "ann.fit(x_train, y_train, batch_size=32, epochs=64, validation_split=0.1)"
   ]
  },
  {
   "cell_type": "code",
   "execution_count": 12,
   "id": "577bcfe1-70d8-4604-b762-24f75814c354",
   "metadata": {},
   "outputs": [
    {
     "name": "stdout",
     "output_type": "stream",
     "text": [
      "\u001b[1m5/5\u001b[0m \u001b[32m━━━━━━━━━━━━━━━━━━━━\u001b[0m\u001b[37m\u001b[0m \u001b[1m0s\u001b[0m 4ms/step \n",
      "[[93 13]\n",
      " [16 32]]\n",
      "0.8116883116883117\n"
     ]
    }
   ],
   "source": [
    "y_pred = ann.predict(x_test)\n",
    "y_pred = (y_pred > 0.5)\n",
    "cm = confusion_matrix(y_test, y_pred)\n",
    "accuracy = accuracy_score(y_test, y_pred)\n",
    "print(cm)\n",
    "print(accuracy)"
   ]
  }
 ],
 "metadata": {
  "kernelspec": {
   "display_name": "Python 3 (ipykernel)",
   "language": "python",
   "name": "python3"
  },
  "language_info": {
   "codemirror_mode": {
    "name": "ipython",
    "version": 3
   },
   "file_extension": ".py",
   "mimetype": "text/x-python",
   "name": "python",
   "nbconvert_exporter": "python",
   "pygments_lexer": "ipython3",
   "version": "3.12.4"
  }
 },
 "nbformat": 4,
 "nbformat_minor": 5
}
