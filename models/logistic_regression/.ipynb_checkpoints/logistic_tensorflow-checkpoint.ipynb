{
 "cells": [
  {
   "cell_type": "code",
   "execution_count": 1,
   "id": "1008e462-fbad-4a79-9a7e-fb12cbc25487",
   "metadata": {},
   "outputs": [],
   "source": [
    "import numpy as np\n",
    "import pandas as pd\n",
    "from sklearn.model_selection import train_test_split\n",
    "from sklearn.preprocessing import StandardScaler\n",
    "import tensorflow as tf\n",
    "from sklearn.metrics import confusion_matrix, accuracy_score"
   ]
  },
  {
   "cell_type": "code",
   "execution_count": 2,
   "id": "4ed92280-9da8-4b48-b149-9699f6fc7c40",
   "metadata": {},
   "outputs": [],
   "source": [
    "df = pd.read_csv('../../data/diabetes.csv')"
   ]
  },
  {
   "cell_type": "code",
   "execution_count": 3,
   "id": "0f0bea27-b4fc-4eaf-b565-ae369ff9e88b",
   "metadata": {},
   "outputs": [],
   "source": [
    "x = df.iloc[:, :-1].values\n",
    "y = df.iloc[:, -1].values"
   ]
  },
  {
   "cell_type": "code",
   "execution_count": 4,
   "id": "ca22d18b-2ba9-4ec1-9ae1-625109c8d478",
   "metadata": {},
   "outputs": [],
   "source": [
    "x_train, x_test, y_train, y_test = train_test_split(x, y, test_size=0.2)"
   ]
  },
  {
   "cell_type": "code",
   "execution_count": 5,
   "id": "20170ccc-9b7a-4359-bb49-997cdbb66ca1",
   "metadata": {},
   "outputs": [],
   "source": [
    "sc = StandardScaler()\n",
    "x_train = sc.fit_transform(x_train)\n",
    "x_test = sc.fit_transform(x_test)"
   ]
  },
  {
   "cell_type": "code",
   "execution_count": 6,
   "id": "38209c36-d759-48de-b57e-7f82bd519860",
   "metadata": {},
   "outputs": [],
   "source": [
    "ann = tf.keras.Sequential()\n",
    "ann.add(tf.keras.layers.Dense(units=1, activation='sigmoid'))"
   ]
  },
  {
   "cell_type": "code",
   "execution_count": 7,
   "id": "46b50d69-125d-4b81-b259-d5b64b3d61ad",
   "metadata": {},
   "outputs": [
    {
     "name": "stdout",
     "output_type": "stream",
     "text": [
      "Epoch 1/64\n",
      "\u001b[1m18/18\u001b[0m \u001b[32m━━━━━━━━━━━━━━━━━━━━\u001b[0m\u001b[37m\u001b[0m \u001b[1m1s\u001b[0m 16ms/step - accuracy: 0.5731 - loss: 0.6944 - val_accuracy: 0.4839 - val_loss: 0.7688\n",
      "Epoch 2/64\n",
      "\u001b[1m18/18\u001b[0m \u001b[32m━━━━━━━━━━━━━━━━━━━━\u001b[0m\u001b[37m\u001b[0m \u001b[1m0s\u001b[0m 5ms/step - accuracy: 0.6272 - loss: 0.6708 - val_accuracy: 0.4839 - val_loss: 0.7573\n",
      "Epoch 3/64\n",
      "\u001b[1m18/18\u001b[0m \u001b[32m━━━━━━━━━━━━━━━━━━━━\u001b[0m\u001b[37m\u001b[0m \u001b[1m0s\u001b[0m 6ms/step - accuracy: 0.6075 - loss: 0.6685 - val_accuracy: 0.5323 - val_loss: 0.7454\n",
      "Epoch 4/64\n",
      "\u001b[1m18/18\u001b[0m \u001b[32m━━━━━━━━━━━━━━━━━━━━\u001b[0m\u001b[37m\u001b[0m \u001b[1m0s\u001b[0m 6ms/step - accuracy: 0.6364 - loss: 0.6574 - val_accuracy: 0.5806 - val_loss: 0.7342\n",
      "Epoch 5/64\n",
      "\u001b[1m18/18\u001b[0m \u001b[32m━━━━━━━━━━━━━━━━━━━━\u001b[0m\u001b[37m\u001b[0m \u001b[1m0s\u001b[0m 6ms/step - accuracy: 0.6346 - loss: 0.6408 - val_accuracy: 0.5806 - val_loss: 0.7236\n",
      "Epoch 6/64\n",
      "\u001b[1m18/18\u001b[0m \u001b[32m━━━━━━━━━━━━━━━━━━━━\u001b[0m\u001b[37m\u001b[0m \u001b[1m0s\u001b[0m 5ms/step - accuracy: 0.6539 - loss: 0.6230 - val_accuracy: 0.5968 - val_loss: 0.7139\n",
      "Epoch 7/64\n",
      "\u001b[1m18/18\u001b[0m \u001b[32m━━━━━━━━━━━━━━━━━━━━\u001b[0m\u001b[37m\u001b[0m \u001b[1m0s\u001b[0m 6ms/step - accuracy: 0.6286 - loss: 0.6432 - val_accuracy: 0.5968 - val_loss: 0.7039\n",
      "Epoch 8/64\n",
      "\u001b[1m18/18\u001b[0m \u001b[32m━━━━━━━━━━━━━━━━━━━━\u001b[0m\u001b[37m\u001b[0m \u001b[1m0s\u001b[0m 6ms/step - accuracy: 0.6656 - loss: 0.6335 - val_accuracy: 0.5968 - val_loss: 0.6953\n",
      "Epoch 9/64\n",
      "\u001b[1m18/18\u001b[0m \u001b[32m━━━━━━━━━━━━━━━━━━━━\u001b[0m\u001b[37m\u001b[0m \u001b[1m0s\u001b[0m 6ms/step - accuracy: 0.7029 - loss: 0.5956 - val_accuracy: 0.6129 - val_loss: 0.6864\n",
      "Epoch 10/64\n",
      "\u001b[1m18/18\u001b[0m \u001b[32m━━━━━━━━━━━━━━━━━━━━\u001b[0m\u001b[37m\u001b[0m \u001b[1m0s\u001b[0m 7ms/step - accuracy: 0.6714 - loss: 0.6029 - val_accuracy: 0.6129 - val_loss: 0.6787\n",
      "Epoch 11/64\n",
      "\u001b[1m18/18\u001b[0m \u001b[32m━━━━━━━━━━━━━━━━━━━━\u001b[0m\u001b[37m\u001b[0m \u001b[1m0s\u001b[0m 7ms/step - accuracy: 0.7379 - loss: 0.5709 - val_accuracy: 0.6129 - val_loss: 0.6709\n",
      "Epoch 12/64\n",
      "\u001b[1m18/18\u001b[0m \u001b[32m━━━━━━━━━━━━━━━━━━━━\u001b[0m\u001b[37m\u001b[0m \u001b[1m0s\u001b[0m 6ms/step - accuracy: 0.7046 - loss: 0.5938 - val_accuracy: 0.5968 - val_loss: 0.6629\n",
      "Epoch 13/64\n",
      "\u001b[1m18/18\u001b[0m \u001b[32m━━━━━━━━━━━━━━━━━━━━\u001b[0m\u001b[37m\u001b[0m \u001b[1m0s\u001b[0m 6ms/step - accuracy: 0.7072 - loss: 0.5764 - val_accuracy: 0.5968 - val_loss: 0.6562\n",
      "Epoch 14/64\n",
      "\u001b[1m18/18\u001b[0m \u001b[32m━━━━━━━━━━━━━━━━━━━━\u001b[0m\u001b[37m\u001b[0m \u001b[1m0s\u001b[0m 5ms/step - accuracy: 0.6918 - loss: 0.5754 - val_accuracy: 0.6129 - val_loss: 0.6495\n",
      "Epoch 15/64\n",
      "\u001b[1m18/18\u001b[0m \u001b[32m━━━━━━━━━━━━━━━━━━━━\u001b[0m\u001b[37m\u001b[0m \u001b[1m0s\u001b[0m 6ms/step - accuracy: 0.6981 - loss: 0.5724 - val_accuracy: 0.6129 - val_loss: 0.6437\n",
      "Epoch 16/64\n",
      "\u001b[1m18/18\u001b[0m \u001b[32m━━━━━━━━━━━━━━━━━━━━\u001b[0m\u001b[37m\u001b[0m \u001b[1m0s\u001b[0m 6ms/step - accuracy: 0.7069 - loss: 0.5586 - val_accuracy: 0.6129 - val_loss: 0.6378\n",
      "Epoch 17/64\n",
      "\u001b[1m18/18\u001b[0m \u001b[32m━━━━━━━━━━━━━━━━━━━━\u001b[0m\u001b[37m\u001b[0m \u001b[1m0s\u001b[0m 5ms/step - accuracy: 0.7127 - loss: 0.5486 - val_accuracy: 0.6452 - val_loss: 0.6322\n",
      "Epoch 18/64\n",
      "\u001b[1m18/18\u001b[0m \u001b[32m━━━━━━━━━━━━━━━━━━━━\u001b[0m\u001b[37m\u001b[0m \u001b[1m0s\u001b[0m 5ms/step - accuracy: 0.7120 - loss: 0.5644 - val_accuracy: 0.6452 - val_loss: 0.6271\n",
      "Epoch 19/64\n",
      "\u001b[1m18/18\u001b[0m \u001b[32m━━━━━━━━━━━━━━━━━━━━\u001b[0m\u001b[37m\u001b[0m \u001b[1m0s\u001b[0m 6ms/step - accuracy: 0.6938 - loss: 0.5515 - val_accuracy: 0.6452 - val_loss: 0.6225\n",
      "Epoch 20/64\n",
      "\u001b[1m18/18\u001b[0m \u001b[32m━━━━━━━━━━━━━━━━━━━━\u001b[0m\u001b[37m\u001b[0m \u001b[1m0s\u001b[0m 6ms/step - accuracy: 0.7249 - loss: 0.5334 - val_accuracy: 0.6774 - val_loss: 0.6184\n",
      "Epoch 21/64\n",
      "\u001b[1m18/18\u001b[0m \u001b[32m━━━━━━━━━━━━━━━━━━━━\u001b[0m\u001b[37m\u001b[0m \u001b[1m0s\u001b[0m 5ms/step - accuracy: 0.7085 - loss: 0.5396 - val_accuracy: 0.6774 - val_loss: 0.6149\n",
      "Epoch 22/64\n",
      "\u001b[1m18/18\u001b[0m \u001b[32m━━━━━━━━━━━━━━━━━━━━\u001b[0m\u001b[37m\u001b[0m \u001b[1m0s\u001b[0m 6ms/step - accuracy: 0.7032 - loss: 0.5600 - val_accuracy: 0.6613 - val_loss: 0.6109\n",
      "Epoch 23/64\n",
      "\u001b[1m18/18\u001b[0m \u001b[32m━━━━━━━━━━━━━━━━━━━━\u001b[0m\u001b[37m\u001b[0m \u001b[1m0s\u001b[0m 6ms/step - accuracy: 0.7421 - loss: 0.5248 - val_accuracy: 0.6613 - val_loss: 0.6069\n",
      "Epoch 24/64\n",
      "\u001b[1m18/18\u001b[0m \u001b[32m━━━━━━━━━━━━━━━━━━━━\u001b[0m\u001b[37m\u001b[0m \u001b[1m0s\u001b[0m 6ms/step - accuracy: 0.7316 - loss: 0.5336 - val_accuracy: 0.6613 - val_loss: 0.6030\n",
      "Epoch 25/64\n",
      "\u001b[1m18/18\u001b[0m \u001b[32m━━━━━━━━━━━━━━━━━━━━\u001b[0m\u001b[37m\u001b[0m \u001b[1m0s\u001b[0m 5ms/step - accuracy: 0.7461 - loss: 0.5143 - val_accuracy: 0.6613 - val_loss: 0.6000\n",
      "Epoch 26/64\n",
      "\u001b[1m18/18\u001b[0m \u001b[32m━━━━━━━━━━━━━━━━━━━━\u001b[0m\u001b[37m\u001b[0m \u001b[1m0s\u001b[0m 6ms/step - accuracy: 0.7650 - loss: 0.5062 - val_accuracy: 0.6613 - val_loss: 0.5968\n",
      "Epoch 27/64\n",
      "\u001b[1m18/18\u001b[0m \u001b[32m━━━━━━━━━━━━━━━━━━━━\u001b[0m\u001b[37m\u001b[0m \u001b[1m0s\u001b[0m 6ms/step - accuracy: 0.7219 - loss: 0.5328 - val_accuracy: 0.6774 - val_loss: 0.5935\n",
      "Epoch 28/64\n",
      "\u001b[1m18/18\u001b[0m \u001b[32m━━━━━━━━━━━━━━━━━━━━\u001b[0m\u001b[37m\u001b[0m \u001b[1m0s\u001b[0m 5ms/step - accuracy: 0.7430 - loss: 0.5334 - val_accuracy: 0.6774 - val_loss: 0.5907\n",
      "Epoch 29/64\n",
      "\u001b[1m18/18\u001b[0m \u001b[32m━━━━━━━━━━━━━━━━━━━━\u001b[0m\u001b[37m\u001b[0m \u001b[1m0s\u001b[0m 5ms/step - accuracy: 0.7394 - loss: 0.5176 - val_accuracy: 0.6935 - val_loss: 0.5881\n",
      "Epoch 30/64\n",
      "\u001b[1m18/18\u001b[0m \u001b[32m━━━━━━━━━━━━━━━━━━━━\u001b[0m\u001b[37m\u001b[0m \u001b[1m0s\u001b[0m 6ms/step - accuracy: 0.7556 - loss: 0.5087 - val_accuracy: 0.7097 - val_loss: 0.5852\n",
      "Epoch 31/64\n",
      "\u001b[1m18/18\u001b[0m \u001b[32m━━━━━━━━━━━━━━━━━━━━\u001b[0m\u001b[37m\u001b[0m \u001b[1m0s\u001b[0m 5ms/step - accuracy: 0.7342 - loss: 0.5042 - val_accuracy: 0.7097 - val_loss: 0.5826\n",
      "Epoch 32/64\n",
      "\u001b[1m18/18\u001b[0m \u001b[32m━━━━━━━━━━━━━━━━━━━━\u001b[0m\u001b[37m\u001b[0m \u001b[1m0s\u001b[0m 6ms/step - accuracy: 0.7439 - loss: 0.5067 - val_accuracy: 0.7258 - val_loss: 0.5804\n",
      "Epoch 33/64\n",
      "\u001b[1m18/18\u001b[0m \u001b[32m━━━━━━━━━━━━━━━━━━━━\u001b[0m\u001b[37m\u001b[0m \u001b[1m0s\u001b[0m 6ms/step - accuracy: 0.7339 - loss: 0.5269 - val_accuracy: 0.7258 - val_loss: 0.5780\n",
      "Epoch 34/64\n",
      "\u001b[1m18/18\u001b[0m \u001b[32m━━━━━━━━━━━━━━━━━━━━\u001b[0m\u001b[37m\u001b[0m \u001b[1m0s\u001b[0m 5ms/step - accuracy: 0.7434 - loss: 0.5114 - val_accuracy: 0.7419 - val_loss: 0.5757\n",
      "Epoch 35/64\n",
      "\u001b[1m18/18\u001b[0m \u001b[32m━━━━━━━━━━━━━━━━━━━━\u001b[0m\u001b[37m\u001b[0m \u001b[1m0s\u001b[0m 6ms/step - accuracy: 0.7145 - loss: 0.5395 - val_accuracy: 0.7419 - val_loss: 0.5741\n",
      "Epoch 36/64\n",
      "\u001b[1m18/18\u001b[0m \u001b[32m━━━━━━━━━━━━━━━━━━━━\u001b[0m\u001b[37m\u001b[0m \u001b[1m0s\u001b[0m 6ms/step - accuracy: 0.7815 - loss: 0.4758 - val_accuracy: 0.7581 - val_loss: 0.5722\n",
      "Epoch 37/64\n",
      "\u001b[1m18/18\u001b[0m \u001b[32m━━━━━━━━━━━━━━━━━━━━\u001b[0m\u001b[37m\u001b[0m \u001b[1m0s\u001b[0m 6ms/step - accuracy: 0.7545 - loss: 0.4924 - val_accuracy: 0.7581 - val_loss: 0.5705\n",
      "Epoch 38/64\n",
      "\u001b[1m18/18\u001b[0m \u001b[32m━━━━━━━━━━━━━━━━━━━━\u001b[0m\u001b[37m\u001b[0m \u001b[1m0s\u001b[0m 5ms/step - accuracy: 0.7543 - loss: 0.4892 - val_accuracy: 0.7581 - val_loss: 0.5686\n",
      "Epoch 39/64\n",
      "\u001b[1m18/18\u001b[0m \u001b[32m━━━━━━━━━━━━━━━━━━━━\u001b[0m\u001b[37m\u001b[0m \u001b[1m0s\u001b[0m 5ms/step - accuracy: 0.7503 - loss: 0.4921 - val_accuracy: 0.7419 - val_loss: 0.5670\n",
      "Epoch 40/64\n",
      "\u001b[1m18/18\u001b[0m \u001b[32m━━━━━━━━━━━━━━━━━━━━\u001b[0m\u001b[37m\u001b[0m \u001b[1m0s\u001b[0m 6ms/step - accuracy: 0.7453 - loss: 0.4854 - val_accuracy: 0.7581 - val_loss: 0.5660\n",
      "Epoch 41/64\n",
      "\u001b[1m18/18\u001b[0m \u001b[32m━━━━━━━━━━━━━━━━━━━━\u001b[0m\u001b[37m\u001b[0m \u001b[1m0s\u001b[0m 5ms/step - accuracy: 0.7336 - loss: 0.5079 - val_accuracy: 0.7581 - val_loss: 0.5646\n",
      "Epoch 42/64\n",
      "\u001b[1m18/18\u001b[0m \u001b[32m━━━━━━━━━━━━━━━━━━━━\u001b[0m\u001b[37m\u001b[0m \u001b[1m0s\u001b[0m 5ms/step - accuracy: 0.7430 - loss: 0.5065 - val_accuracy: 0.7581 - val_loss: 0.5632\n",
      "Epoch 43/64\n",
      "\u001b[1m18/18\u001b[0m \u001b[32m━━━━━━━━━━━━━━━━━━━━\u001b[0m\u001b[37m\u001b[0m \u001b[1m0s\u001b[0m 6ms/step - accuracy: 0.7502 - loss: 0.4915 - val_accuracy: 0.7581 - val_loss: 0.5620\n",
      "Epoch 44/64\n",
      "\u001b[1m18/18\u001b[0m \u001b[32m━━━━━━━━━━━━━━━━━━━━\u001b[0m\u001b[37m\u001b[0m \u001b[1m0s\u001b[0m 5ms/step - accuracy: 0.7296 - loss: 0.4913 - val_accuracy: 0.7581 - val_loss: 0.5606\n",
      "Epoch 45/64\n",
      "\u001b[1m18/18\u001b[0m \u001b[32m━━━━━━━━━━━━━━━━━━━━\u001b[0m\u001b[37m\u001b[0m \u001b[1m0s\u001b[0m 6ms/step - accuracy: 0.7463 - loss: 0.4944 - val_accuracy: 0.7581 - val_loss: 0.5595\n",
      "Epoch 46/64\n",
      "\u001b[1m18/18\u001b[0m \u001b[32m━━━━━━━━━━━━━━━━━━━━\u001b[0m\u001b[37m\u001b[0m \u001b[1m0s\u001b[0m 5ms/step - accuracy: 0.7478 - loss: 0.4921 - val_accuracy: 0.7419 - val_loss: 0.5583\n",
      "Epoch 47/64\n",
      "\u001b[1m18/18\u001b[0m \u001b[32m━━━━━━━━━━━━━━━━━━━━\u001b[0m\u001b[37m\u001b[0m \u001b[1m0s\u001b[0m 5ms/step - accuracy: 0.7449 - loss: 0.4906 - val_accuracy: 0.7419 - val_loss: 0.5573\n",
      "Epoch 48/64\n",
      "\u001b[1m18/18\u001b[0m \u001b[32m━━━━━━━━━━━━━━━━━━━━\u001b[0m\u001b[37m\u001b[0m \u001b[1m0s\u001b[0m 5ms/step - accuracy: 0.7352 - loss: 0.5149 - val_accuracy: 0.7419 - val_loss: 0.5561\n",
      "Epoch 49/64\n",
      "\u001b[1m18/18\u001b[0m \u001b[32m━━━━━━━━━━━━━━━━━━━━\u001b[0m\u001b[37m\u001b[0m \u001b[1m0s\u001b[0m 5ms/step - accuracy: 0.7479 - loss: 0.4992 - val_accuracy: 0.7419 - val_loss: 0.5550\n",
      "Epoch 50/64\n",
      "\u001b[1m18/18\u001b[0m \u001b[32m━━━━━━━━━━━━━━━━━━━━\u001b[0m\u001b[37m\u001b[0m \u001b[1m0s\u001b[0m 6ms/step - accuracy: 0.7432 - loss: 0.5011 - val_accuracy: 0.7258 - val_loss: 0.5540\n",
      "Epoch 51/64\n",
      "\u001b[1m18/18\u001b[0m \u001b[32m━━━━━━━━━━━━━━━━━━━━\u001b[0m\u001b[37m\u001b[0m \u001b[1m0s\u001b[0m 5ms/step - accuracy: 0.7481 - loss: 0.4921 - val_accuracy: 0.7258 - val_loss: 0.5529\n",
      "Epoch 52/64\n",
      "\u001b[1m18/18\u001b[0m \u001b[32m━━━━━━━━━━━━━━━━━━━━\u001b[0m\u001b[37m\u001b[0m \u001b[1m0s\u001b[0m 5ms/step - accuracy: 0.7554 - loss: 0.4806 - val_accuracy: 0.7258 - val_loss: 0.5523\n",
      "Epoch 53/64\n",
      "\u001b[1m18/18\u001b[0m \u001b[32m━━━━━━━━━━━━━━━━━━━━\u001b[0m\u001b[37m\u001b[0m \u001b[1m0s\u001b[0m 6ms/step - accuracy: 0.7608 - loss: 0.4793 - val_accuracy: 0.7258 - val_loss: 0.5516\n",
      "Epoch 54/64\n",
      "\u001b[1m18/18\u001b[0m \u001b[32m━━━━━━━━━━━━━━━━━━━━\u001b[0m\u001b[37m\u001b[0m \u001b[1m0s\u001b[0m 6ms/step - accuracy: 0.7896 - loss: 0.4544 - val_accuracy: 0.7258 - val_loss: 0.5511\n",
      "Epoch 55/64\n",
      "\u001b[1m18/18\u001b[0m \u001b[32m━━━━━━━━━━━━━━━━━━━━\u001b[0m\u001b[37m\u001b[0m \u001b[1m0s\u001b[0m 6ms/step - accuracy: 0.7586 - loss: 0.4985 - val_accuracy: 0.7258 - val_loss: 0.5504\n",
      "Epoch 56/64\n",
      "\u001b[1m18/18\u001b[0m \u001b[32m━━━━━━━━━━━━━━━━━━━━\u001b[0m\u001b[37m\u001b[0m \u001b[1m0s\u001b[0m 5ms/step - accuracy: 0.7720 - loss: 0.4688 - val_accuracy: 0.7258 - val_loss: 0.5496\n",
      "Epoch 57/64\n",
      "\u001b[1m18/18\u001b[0m \u001b[32m━━━━━━━━━━━━━━━━━━━━\u001b[0m\u001b[37m\u001b[0m \u001b[1m0s\u001b[0m 6ms/step - accuracy: 0.7575 - loss: 0.4789 - val_accuracy: 0.7258 - val_loss: 0.5486\n",
      "Epoch 58/64\n",
      "\u001b[1m18/18\u001b[0m \u001b[32m━━━━━━━━━━━━━━━━━━━━\u001b[0m\u001b[37m\u001b[0m \u001b[1m0s\u001b[0m 6ms/step - accuracy: 0.7868 - loss: 0.4667 - val_accuracy: 0.7258 - val_loss: 0.5482\n",
      "Epoch 59/64\n",
      "\u001b[1m18/18\u001b[0m \u001b[32m━━━━━━━━━━━━━━━━━━━━\u001b[0m\u001b[37m\u001b[0m \u001b[1m0s\u001b[0m 6ms/step - accuracy: 0.7618 - loss: 0.4789 - val_accuracy: 0.7258 - val_loss: 0.5476\n",
      "Epoch 60/64\n",
      "\u001b[1m18/18\u001b[0m \u001b[32m━━━━━━━━━━━━━━━━━━━━\u001b[0m\u001b[37m\u001b[0m \u001b[1m0s\u001b[0m 6ms/step - accuracy: 0.7528 - loss: 0.4725 - val_accuracy: 0.7258 - val_loss: 0.5470\n",
      "Epoch 61/64\n",
      "\u001b[1m18/18\u001b[0m \u001b[32m━━━━━━━━━━━━━━━━━━━━\u001b[0m\u001b[37m\u001b[0m \u001b[1m0s\u001b[0m 6ms/step - accuracy: 0.7595 - loss: 0.4669 - val_accuracy: 0.7581 - val_loss: 0.5465\n",
      "Epoch 62/64\n",
      "\u001b[1m18/18\u001b[0m \u001b[32m━━━━━━━━━━━━━━━━━━━━\u001b[0m\u001b[37m\u001b[0m \u001b[1m0s\u001b[0m 5ms/step - accuracy: 0.7822 - loss: 0.4654 - val_accuracy: 0.7581 - val_loss: 0.5460\n",
      "Epoch 63/64\n",
      "\u001b[1m18/18\u001b[0m \u001b[32m━━━━━━━━━━━━━━━━━━━━\u001b[0m\u001b[37m\u001b[0m \u001b[1m0s\u001b[0m 5ms/step - accuracy: 0.7827 - loss: 0.4535 - val_accuracy: 0.7581 - val_loss: 0.5457\n",
      "Epoch 64/64\n",
      "\u001b[1m18/18\u001b[0m \u001b[32m━━━━━━━━━━━━━━━━━━━━\u001b[0m\u001b[37m\u001b[0m \u001b[1m0s\u001b[0m 6ms/step - accuracy: 0.7478 - loss: 0.4854 - val_accuracy: 0.7581 - val_loss: 0.5454\n"
     ]
    },
    {
     "data": {
      "text/plain": [
       "<keras.src.callbacks.history.History at 0x23dca34c2c0>"
      ]
     },
     "execution_count": 7,
     "metadata": {},
     "output_type": "execute_result"
    }
   ],
   "source": [
    "ann.compile(optimizer='rmsprop', loss='binary_crossentropy', metrics=['accuracy'])\n",
    "ann.fit(x_train, y_train, batch_size=32, epochs=64, validation_split=0.1)"
   ]
  },
  {
   "cell_type": "code",
   "execution_count": 8,
   "id": "2d629ae2-da39-49db-9e5e-69a6201a7927",
   "metadata": {},
   "outputs": [
    {
     "name": "stdout",
     "output_type": "stream",
     "text": [
      "\u001b[1m5/5\u001b[0m \u001b[32m━━━━━━━━━━━━━━━━━━━━\u001b[0m\u001b[37m\u001b[0m \u001b[1m0s\u001b[0m 10ms/step\n",
      "[[88 16]\n",
      " [25 25]]\n",
      "0.7337662337662337\n"
     ]
    }
   ],
   "source": [
    "y_pred = ann.predict(x_test)\n",
    "y_pred = (y_pred > 0.5)\n",
    "cm = confusion_matrix(y_test, y_pred)\n",
    "accuracy = accuracy_score(y_test, y_pred)\n",
    "print(cm)\n",
    "print(accuracy)"
   ]
  }
 ],
 "metadata": {
  "kernelspec": {
   "display_name": "Python 3 (ipykernel)",
   "language": "python",
   "name": "python3"
  },
  "language_info": {
   "codemirror_mode": {
    "name": "ipython",
    "version": 3
   },
   "file_extension": ".py",
   "mimetype": "text/x-python",
   "name": "python",
   "nbconvert_exporter": "python",
   "pygments_lexer": "ipython3",
   "version": "3.12.4"
  }
 },
 "nbformat": 4,
 "nbformat_minor": 5
}
